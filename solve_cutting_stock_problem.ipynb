{
  "cells": [
    {
      "cell_type": "markdown",
      "metadata": {
        "id": "view-in-github",
        "colab_type": "text"
      },
      "source": [
        "<a href=\"https://colab.research.google.com/github/gdmcdonald/Cutting-Stock-Problem/blob/main/solve_cutting_stock_problem.ipynb\" target=\"_parent\"><img src=\"https://colab.research.google.com/assets/colab-badge.svg\" alt=\"Open In Colab\"/></a>"
      ]
    },
    {
      "cell_type": "markdown",
      "id": "basename",
      "metadata": {
        "id": "basename"
      },
      "source": [
        "# Solve cutting problem\n",
        "\n",
        "Solves a problem in which various lengths of wood must be cut with minimal waste from longer lengths of wood. https://en.wikipedia.org/wiki/Cutting_stock_problem"
      ]
    },
    {
      "cell_type": "markdown",
      "id": "doc",
      "metadata": {
        "id": "doc"
      },
      "source": [
        "First, you must install [ortools](https://pypi.org/project/ortools/) package in this colab."
      ]
    },
    {
      "cell_type": "code",
      "execution_count": null,
      "id": "install",
      "metadata": {
        "id": "install"
      },
      "outputs": [],
      "source": [
        "!pip install ortools"
      ]
    },
    {
      "cell_type": "markdown",
      "id": "description",
      "metadata": {
        "id": "description"
      },
      "source": [
        "\n",
        "Solves a problem in which various lengths of wood must be cut with minimal waste from longer lengths of wood. https://en.wikipedia.org/wiki/Cutting_stock_problem\n"
      ]
    },
    {
      "cell_type": "code",
      "execution_count": 13,
      "id": "code",
      "metadata": {
        "colab": {
          "base_uri": "https://localhost:8080/"
        },
        "id": "code",
        "outputId": "87493346-0370-442f-c183-ce9d623293d9"
      },
      "outputs": [
        {
          "output_type": "stream",
          "name": "stdout",
          "text": [
            "Stock number 0\n",
            "  Items packed: [1, 2, 18]\n",
            "  Lengths cut: [837.8, 773.2, 773.2]\n",
            "  Total length used: 2390.2 out of 2400\n",
            "\n",
            "Stock number 1\n",
            "  Items packed: [0, 15, 19]\n",
            "  Lengths cut: [910, 625, 837.8]\n",
            "  Total length used: 2378.8 out of 2400\n",
            "\n",
            "Stock number 2\n",
            "  Items packed: [5, 8, 13, 14]\n",
            "  Lengths cut: [625, 545.2, 564.2, 590.8]\n",
            "  Total length used: 2334.2 out of 2400\n",
            "\n",
            "Stock number 6\n",
            "  Items packed: [17, 20]\n",
            "  Lengths cut: [716.2, 910]\n",
            "  Total length used: 1629.2 out of 1800\n",
            "\n",
            "Stock number 7\n",
            "  Items packed: [7, 12, 16]\n",
            "  Lengths cut: [564.2, 545.2, 666.8]\n",
            "  Total length used: 1782.2 out of 1800\n",
            "\n",
            "Stock number 10\n",
            "  Items packed: [3, 9, 10]\n",
            "  Lengths cut: [716.2, 533.8, 530]\n",
            "  Total length used: 1786.0 out of 1800\n",
            "\n",
            "Stock number 11\n",
            "  Items packed: [4, 6, 11]\n",
            "  Lengths cut: [666.8, 590.8, 533.8]\n",
            "  Total length used: 1797.3999999999999 out of 1800\n",
            "\n",
            "\n",
            "Number of stock used: 7\n",
            "Time =  5475  milliseconds\n"
          ]
        }
      ],
      "source": [
        "from ortools.linear_solver import pywraplp\n",
        "\n",
        "\n",
        "def create_data_model():\n",
        "    \"\"\"Create the data for the example.\"\"\"\n",
        "    data = {}\n",
        "    # These are the lengths you want to cut\n",
        "    lengths = [910, 837.8, 773.2, 716.2, 666.8, 625, 590.8, 564.2, 545.2, 533.8, 530, 533.8, 545.2, 564.2, 590.8, 625, 666.8, 716.2, 773.2, 837.8, 910]\n",
        "    data['lengths'] = lengths\n",
        "    data['items'] = list(range(len(lengths)))\n",
        "    # These are the stock you have available\n",
        "    data['stock_lengths'] = [2400, 2400, 2400, 1800, 1800, 1800, 1800, 1800, 1800, 1800, 1800, 1800]\n",
        "    data['cut_width'] = 3 #how many mm the saw takes out of the stock.\n",
        "    data['stock'] = list(range(len(data['stock_lengths'])))\n",
        "    return data\n",
        "\n",
        "\n",
        "\n",
        "def main():\n",
        "    data = create_data_model()\n",
        "\n",
        "    # Create the mip solver with the SCIP backend.\n",
        "    solver = pywraplp.Solver.CreateSolver('SCIP')\n",
        "\n",
        "    if not solver:\n",
        "        return\n",
        "\n",
        "    # Variables\n",
        "    # x[i, j] = 1 if item i is packed in stock j.\n",
        "    x = {}\n",
        "    for i in data['items']:\n",
        "        for j in data['stock']:\n",
        "            x[(i, j)] = solver.IntVar(0, 1, 'x_%i_%i' % (i, j))\n",
        "\n",
        "    # y[j] = 1 if stock j is used.\n",
        "    y = {}\n",
        "    for j in data['stock']:\n",
        "        y[j] = solver.IntVar(0, 1, 'y[%i]' % j)\n",
        "\n",
        "    # Constraints\n",
        "    # Each item must be in exactly one stock.\n",
        "    for i in data['items']:\n",
        "        solver.Add(sum(x[i, j] for j in data['stock']) == 1)\n",
        "\n",
        "    # The amount packed in each stock_length cannot exceed its capacity.\n",
        "    for j in data['stock']:\n",
        "        solver.Add(\n",
        "            sum(x[(i, j)] * (data['lengths'][i] + data['cut_width']) for i in data['items']) - data['cut_width'] <= y[j] *\n",
        "            data['stock_lengths'][j])\n",
        "\n",
        "    # Objective: minimize the number of stock used.\n",
        "    solver.Minimize(solver.Sum([y[j] for j in data['stock']]))\n",
        "\n",
        "    status = solver.Solve()\n",
        "\n",
        "    if status == pywraplp.Solver.OPTIMAL:\n",
        "        num_stock = 0\n",
        "        for j in data['stock']:\n",
        "            if y[j].solution_value() == 1:\n",
        "                stock_items = []\n",
        "                stock_length_used = 0\n",
        "                for i in data['items']:\n",
        "                    if x[i, j].solution_value() > 0:\n",
        "                        stock_items.append(i)\n",
        "                        stock_length_used += data['lengths'][i] \n",
        "                stock_length_used += (len(stock_items) - 1) * data['cut_width']\n",
        "                if stock_items:\n",
        "                    num_stock += 1\n",
        "                    print('Stock number', j)\n",
        "                    print('  Items packed:', stock_items)\n",
        "                    print('  Lengths cut:', [data[\"lengths\"][k] for k in stock_items])\n",
        "                    print(f'  Total length used: {stock_length_used} out of {data[\"stock_lengths\"][j]}')\n",
        "                    print()\n",
        "        print()\n",
        "        print('Number of stock used:', num_stock)\n",
        "        print('Time = ', solver.WallTime(), ' milliseconds')\n",
        "    else:\n",
        "        print('The problem does not have an optimal solution.')\n",
        "\n",
        "\n",
        "if __name__ == '__main__':\n",
        "    main()"
      ]
    }
  ],
  "metadata": {
    "colab": {
      "provenance": [],
      "include_colab_link": true
    },
    "language_info": {
      "name": "python"
    },
    "kernelspec": {
      "name": "python3",
      "display_name": "Python 3"
    },
    "gpuClass": "standard"
  },
  "nbformat": 4,
  "nbformat_minor": 5
}