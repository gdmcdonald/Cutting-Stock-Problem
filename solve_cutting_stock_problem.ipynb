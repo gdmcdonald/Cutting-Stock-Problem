{
  "cells": [
    {
      "cell_type": "markdown",
      "metadata": {
        "id": "view-in-github",
        "colab_type": "text"
      },
      "source": [
        "<a href=\"https://colab.research.google.com/github/gdmcdonald/Cutting-Stock-Problem/blob/main/solve_cutting_stock_problem.ipynb\" target=\"_parent\"><img src=\"https://colab.research.google.com/assets/colab-badge.svg\" alt=\"Open In Colab\"/></a>"
      ]
    },
    {
      "cell_type": "markdown",
      "id": "google",
      "metadata": {
        "id": "google"
      },
      "source": [
        "##### Copyright 2022 Google LLC."
      ]
    },
    {
      "cell_type": "markdown",
      "id": "apache",
      "metadata": {
        "id": "apache"
      },
      "source": [
        "Licensed under the Apache License, Version 2.0 (the \"License\");\n",
        "you may not use this file except in compliance with the License.\n",
        "You may obtain a copy of the License at\n",
        "\n",
        "    http://www.apache.org/licenses/LICENSE-2.0\n",
        "\n",
        "Unless required by applicable law or agreed to in writing, software\n",
        "distributed under the License is distributed on an \"AS IS\" BASIS,\n",
        "WITHOUT WARRANTIES OR CONDITIONS OF ANY KIND, either express or implied.\n",
        "See the License for the specific language governing permissions and\n",
        "limitations under the License.\n"
      ]
    },
    {
      "cell_type": "markdown",
      "id": "basename",
      "metadata": {
        "id": "basename"
      },
      "source": [
        "# solve_with_time_limit_sample_sat"
      ]
    },
    {
      "cell_type": "markdown",
      "id": "link",
      "metadata": {
        "id": "link"
      },
      "source": [
        "<table align=\"left\">\n",
        "<td>\n",
        "<a href=\"https://colab.research.google.com/github/google/or-tools/blob/main/examples/notebook/sat/solve_with_time_limit_sample_sat.ipynb\"><img src=\"https://raw.githubusercontent.com/google/or-tools/main/tools/colab_32px.png\"/>Run in Google Colab</a>\n",
        "</td>\n",
        "<td>\n",
        "<a href=\"https://github.com/google/or-tools/blob/main/ortools/sat/samples/solve_with_time_limit_sample_sat.py\"><img src=\"https://raw.githubusercontent.com/google/or-tools/main/tools/github_32px.png\"/>View source on GitHub</a>\n",
        "</td>\n",
        "</table>"
      ]
    },
    {
      "cell_type": "markdown",
      "id": "doc",
      "metadata": {
        "id": "doc"
      },
      "source": [
        "First, you must install [ortools](https://pypi.org/project/ortools/) package in this colab."
      ]
    },
    {
      "cell_type": "code",
      "execution_count": 1,
      "id": "install",
      "metadata": {
        "id": "install",
        "outputId": "f51e00bb-edb5-4a9f-f764-947654533122",
        "colab": {
          "base_uri": "https://localhost:8080/"
        }
      },
      "outputs": [
        {
          "output_type": "stream",
          "name": "stdout",
          "text": [
            "Looking in indexes: https://pypi.org/simple, https://us-python.pkg.dev/colab-wheels/public/simple/\n",
            "Collecting ortools\n",
            "  Downloading ortools-9.5.2237-cp38-cp38-manylinux_2_17_x86_64.manylinux2014_x86_64.whl (16.3 MB)\n",
            "\u001b[2K     \u001b[90m━━━━━━━━━━━━━━━━━━━━━━━━━━━━━━━━━━━━━━━━\u001b[0m \u001b[32m16.3/16.3 MB\u001b[0m \u001b[31m90.2 MB/s\u001b[0m eta \u001b[36m0:00:00\u001b[0m\n",
            "\u001b[?25hRequirement already satisfied: numpy>=1.13.3 in /usr/local/lib/python3.8/dist-packages (from ortools) (1.21.6)\n",
            "Requirement already satisfied: absl-py>=0.13 in /usr/local/lib/python3.8/dist-packages (from ortools) (1.3.0)\n",
            "Collecting protobuf>=4.21.5\n",
            "  Downloading protobuf-4.21.12-cp37-abi3-manylinux2014_x86_64.whl (409 kB)\n",
            "\u001b[2K     \u001b[90m━━━━━━━━━━━━━━━━━━━━━━━━━━━━━━━━━━━━━━\u001b[0m \u001b[32m409.8/409.8 KB\u001b[0m \u001b[31m44.4 MB/s\u001b[0m eta \u001b[36m0:00:00\u001b[0m\n",
            "\u001b[?25hInstalling collected packages: protobuf, ortools\n",
            "  Attempting uninstall: protobuf\n",
            "    Found existing installation: protobuf 3.19.6\n",
            "    Uninstalling protobuf-3.19.6:\n",
            "      Successfully uninstalled protobuf-3.19.6\n",
            "\u001b[31mERROR: pip's dependency resolver does not currently take into account all the packages that are installed. This behaviour is the source of the following dependency conflicts.\n",
            "tensorflow 2.9.2 requires protobuf<3.20,>=3.9.2, but you have protobuf 4.21.12 which is incompatible.\n",
            "tensorflow-metadata 1.12.0 requires protobuf<4,>=3.13, but you have protobuf 4.21.12 which is incompatible.\n",
            "tensorboard 2.9.1 requires protobuf<3.20,>=3.9.2, but you have protobuf 4.21.12 which is incompatible.\u001b[0m\u001b[31m\n",
            "\u001b[0mSuccessfully installed ortools-9.5.2237 protobuf-4.21.12\n"
          ]
        }
      ],
      "source": [
        "!pip install ortools"
      ]
    },
    {
      "cell_type": "markdown",
      "id": "description",
      "metadata": {
        "id": "description"
      },
      "source": [
        "\n",
        "Solves a problem with a time limit.\n"
      ]
    },
    {
      "cell_type": "code",
      "execution_count": 4,
      "id": "code",
      "metadata": {
        "id": "code",
        "outputId": "eb0e5518-d00c-4d5d-b241-27913dc5ff41",
        "colab": {
          "base_uri": "https://localhost:8080/"
        }
      },
      "outputs": [
        {
          "output_type": "stream",
          "name": "stdout",
          "text": [
            "Bin number 0\n",
            "  Items packed: [3, 6, 11, 12]\n",
            "  Total weight: 2386.0\n",
            "\n",
            "Bin number 1\n",
            "  Items packed: [2, 17, 20]\n",
            "  Total weight: 2399.4\n",
            "\n",
            "Bin number 2\n",
            "  Items packed: [4, 8, 10, 15]\n",
            "  Total weight: 2367.0\n",
            "\n",
            "Bin number 5\n",
            "  Items packed: [0, 18]\n",
            "  Total weight: 1683.2\n",
            "\n",
            "Bin number 8\n",
            "  Items packed: [7, 13, 16]\n",
            "  Total weight: 1795.2\n",
            "\n",
            "Bin number 9\n",
            "  Items packed: [5, 9, 14]\n",
            "  Total weight: 1749.6\n",
            "\n",
            "Bin number 11\n",
            "  Items packed: [1, 19]\n",
            "  Total weight: 1675.6\n",
            "\n",
            "\n",
            "Number of bins used: 7\n",
            "Time =  1399  milliseconds\n"
          ]
        }
      ],
      "source": [
        "from ortools.linear_solver import pywraplp\n",
        "\n",
        "\n",
        "def create_data_model():\n",
        "    \"\"\"Create the data for the example.\"\"\"\n",
        "    data = {}\n",
        "    weights = [910, 837.8, 773.2, 716.2, 666.8, 625, 590.8, 564.2, 545.2, 533.8, 530, 533.8, 545.2, 564.2, 590.8, 625, 666.8, 716.2, 773.2, 837.8, 910]\n",
        "    data['weights'] = weights\n",
        "    data['items'] = list(range(len(weights)))\n",
        "    data['bin_capacity'] = [2400, 2400, 2400, 1800, 1800, 1800, 1800, 1800, 1800, 1800, 1800, 1800]\n",
        "    data['bins'] = list(range(len(data['bin_capacity'])))\n",
        "    return data\n",
        "\n",
        "\n",
        "\n",
        "def main():\n",
        "    data = create_data_model()\n",
        "\n",
        "    # Create the mip solver with the SCIP backend.\n",
        "    solver = pywraplp.Solver.CreateSolver('SCIP')\n",
        "\n",
        "    if not solver:\n",
        "        return\n",
        "\n",
        "    # Variables\n",
        "    # x[i, j] = 1 if item i is packed in bin j.\n",
        "    x = {}\n",
        "    for i in data['items']:\n",
        "        for j in data['bins']:\n",
        "            x[(i, j)] = solver.IntVar(0, 1, 'x_%i_%i' % (i, j))\n",
        "\n",
        "    # y[j] = 1 if bin j is used.\n",
        "    y = {}\n",
        "    for j in data['bins']:\n",
        "        y[j] = solver.IntVar(0, 1, 'y[%i]' % j)\n",
        "\n",
        "    # Constraints\n",
        "    # Each item must be in exactly one bin.\n",
        "    for i in data['items']:\n",
        "        solver.Add(sum(x[i, j] for j in data['bins']) == 1)\n",
        "\n",
        "    # The amount packed in each bin cannot exceed its capacity.\n",
        "    for j in data['bins']:\n",
        "        solver.Add(\n",
        "            sum(x[(i, j)] * data['weights'][i] for i in data['items']) <= y[j] *\n",
        "            data['bin_capacity'][j])\n",
        "\n",
        "    # Objective: minimize the number of bins used.\n",
        "    solver.Minimize(solver.Sum([y[j] for j in data['bins']]))\n",
        "\n",
        "    status = solver.Solve()\n",
        "\n",
        "    if status == pywraplp.Solver.OPTIMAL:\n",
        "        num_bins = 0\n",
        "        for j in data['bins']:\n",
        "            if y[j].solution_value() == 1:\n",
        "                bin_items = []\n",
        "                bin_weight = 0\n",
        "                for i in data['items']:\n",
        "                    if x[i, j].solution_value() > 0:\n",
        "                        bin_items.append(i)\n",
        "                        bin_weight += data['weights'][i]\n",
        "                if bin_items:\n",
        "                    num_bins += 1\n",
        "                    print('Bin number', j)\n",
        "                    print('  Items packed:', bin_items)\n",
        "                    print('  Total weight:', bin_weight)\n",
        "                    print()\n",
        "        print()\n",
        "        print('Number of bins used:', num_bins)\n",
        "        print('Time = ', solver.WallTime(), ' milliseconds')\n",
        "    else:\n",
        "        print('The problem does not have an optimal solution.')\n",
        "\n",
        "\n",
        "if __name__ == '__main__':\n",
        "    main()"
      ]
    }
  ],
  "metadata": {
    "colab": {
      "provenance": [],
      "include_colab_link": true
    },
    "language_info": {
      "name": "python"
    },
    "kernelspec": {
      "name": "python3",
      "display_name": "Python 3"
    },
    "gpuClass": "standard"
  },
  "nbformat": 4,
  "nbformat_minor": 5
}