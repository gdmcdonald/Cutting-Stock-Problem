{
  "cells": [
    {
      "cell_type": "markdown",
      "metadata": {
        "id": "view-in-github",
        "colab_type": "text"
      },
      "source": [
        "<a href=\"https://colab.research.google.com/github/gdmcdonald/Cutting-Stock-Problem/blob/main/solve_cutting_stock_problem.ipynb\" target=\"_parent\"><img src=\"https://colab.research.google.com/assets/colab-badge.svg\" alt=\"Open In Colab\"/></a>"
      ]
    },
    {
      "cell_type": "markdown",
      "id": "basename",
      "metadata": {
        "id": "basename"
      },
      "source": [
        "# Solve cutting problem"
      ]
    },
    {
      "cell_type": "markdown",
      "id": "doc",
      "metadata": {
        "id": "doc"
      },
      "source": [
        "First, you must install [ortools](https://pypi.org/project/ortools/) package in this colab."
      ]
    },
    {
      "cell_type": "code",
      "execution_count": null,
      "id": "install",
      "metadata": {
        "id": "install"
      },
      "outputs": [],
      "source": [
        "!pip install ortools"
      ]
    },
    {
      "cell_type": "markdown",
      "id": "description",
      "metadata": {
        "id": "description"
      },
      "source": [
        "\n",
        "Solves a problem in which various lengths of wood must be cut with minimal waste from longer lengths of wood. https://en.wikipedia.org/wiki/Cutting_stock_problem\n"
      ]
    },
    {
      "cell_type": "code",
      "execution_count": 4,
      "id": "code",
      "metadata": {
        "colab": {
          "base_uri": "https://localhost:8080/"
        },
        "id": "code",
        "outputId": "eb0e5518-d00c-4d5d-b241-27913dc5ff41"
      },
      "outputs": [
        {
          "output_type": "stream",
          "name": "stdout",
          "text": [
            "Bin number 0\n",
            "  Items packed: [3, 6, 11, 12]\n",
            "  Total weight: 2386.0\n",
            "\n",
            "Bin number 1\n",
            "  Items packed: [2, 17, 20]\n",
            "  Total weight: 2399.4\n",
            "\n",
            "Bin number 2\n",
            "  Items packed: [4, 8, 10, 15]\n",
            "  Total weight: 2367.0\n",
            "\n",
            "Bin number 5\n",
            "  Items packed: [0, 18]\n",
            "  Total weight: 1683.2\n",
            "\n",
            "Bin number 8\n",
            "  Items packed: [7, 13, 16]\n",
            "  Total weight: 1795.2\n",
            "\n",
            "Bin number 9\n",
            "  Items packed: [5, 9, 14]\n",
            "  Total weight: 1749.6\n",
            "\n",
            "Bin number 11\n",
            "  Items packed: [1, 19]\n",
            "  Total weight: 1675.6\n",
            "\n",
            "\n",
            "Number of bins used: 7\n",
            "Time =  1399  milliseconds\n"
          ]
        }
      ],
      "source": [
        "from ortools.linear_solver import pywraplp\n",
        "\n",
        "\n",
        "def create_data_model():\n",
        "    \"\"\"Create the data for the example.\"\"\"\n",
        "    data = {}\n",
        "    # These are the lengths you want to cut\n",
        "    weights = [910, 837.8, 773.2, 716.2, 666.8, 625, 590.8, 564.2, 545.2, 533.8, 530, 533.8, 545.2, 564.2, 590.8, 625, 666.8, 716.2, 773.2, 837.8, 910]\n",
        "    data['weights'] = weights\n",
        "    data['items'] = list(range(len(weights)))\n",
        "    # These are the stock you have available\n",
        "    data['bin_capacity'] = [2400, 2400, 2400, 1800, 1800, 1800, 1800, 1800, 1800, 1800, 1800, 1800]\n",
        "    data['bins'] = list(range(len(data['bin_capacity'])))\n",
        "    return data\n",
        "\n",
        "\n",
        "\n",
        "def main():\n",
        "    data = create_data_model()\n",
        "\n",
        "    # Create the mip solver with the SCIP backend.\n",
        "    solver = pywraplp.Solver.CreateSolver('SCIP')\n",
        "\n",
        "    if not solver:\n",
        "        return\n",
        "\n",
        "    # Variables\n",
        "    # x[i, j] = 1 if item i is packed in bin j.\n",
        "    x = {}\n",
        "    for i in data['items']:\n",
        "        for j in data['bins']:\n",
        "            x[(i, j)] = solver.IntVar(0, 1, 'x_%i_%i' % (i, j))\n",
        "\n",
        "    # y[j] = 1 if bin j is used.\n",
        "    y = {}\n",
        "    for j in data['bins']:\n",
        "        y[j] = solver.IntVar(0, 1, 'y[%i]' % j)\n",
        "\n",
        "    # Constraints\n",
        "    # Each item must be in exactly one bin.\n",
        "    for i in data['items']:\n",
        "        solver.Add(sum(x[i, j] for j in data['bins']) == 1)\n",
        "\n",
        "    # The amount packed in each bin cannot exceed its capacity.\n",
        "    for j in data['bins']:\n",
        "        solver.Add(\n",
        "            sum(x[(i, j)] * data['weights'][i] for i in data['items']) <= y[j] *\n",
        "            data['bin_capacity'][j])\n",
        "\n",
        "    # Objective: minimize the number of bins used.\n",
        "    solver.Minimize(solver.Sum([y[j] for j in data['bins']]))\n",
        "\n",
        "    status = solver.Solve()\n",
        "\n",
        "    if status == pywraplp.Solver.OPTIMAL:\n",
        "        num_bins = 0\n",
        "        for j in data['bins']:\n",
        "            if y[j].solution_value() == 1:\n",
        "                bin_items = []\n",
        "                bin_weight = 0\n",
        "                for i in data['items']:\n",
        "                    if x[i, j].solution_value() > 0:\n",
        "                        bin_items.append(i)\n",
        "                        bin_weight += data['weights'][i]\n",
        "                if bin_items:\n",
        "                    num_bins += 1\n",
        "                    print('Bin number', j)\n",
        "                    print('  Items packed:', bin_items)\n",
        "                    print('  Total weight:', bin_weight)\n",
        "                    print()\n",
        "        print()\n",
        "        print('Number of bins used:', num_bins)\n",
        "        print('Time = ', solver.WallTime(), ' milliseconds')\n",
        "    else:\n",
        "        print('The problem does not have an optimal solution.')\n",
        "\n",
        "\n",
        "if __name__ == '__main__':\n",
        "    main()"
      ]
    }
  ],
  "metadata": {
    "colab": {
      "provenance": [],
      "include_colab_link": true
    },
    "language_info": {
      "name": "python"
    },
    "kernelspec": {
      "name": "python3",
      "display_name": "Python 3"
    },
    "gpuClass": "standard"
  },
  "nbformat": 4,
  "nbformat_minor": 5
}